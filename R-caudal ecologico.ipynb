{
 "cells": [
  {
   "cell_type": "code",
   "execution_count": 2,
   "metadata": {
    "collapsed": false
   },
   "outputs": [
    {
     "data": {
      "text/html": [
       "<ol class=list-inline>\n",
       "\t<li>'Caudal ecologico.ipynb'</li>\n",
       "\t<li>'Datos_Estacion_Batan_Zana.csv'</li>\n",
       "\t<li>'Python-comandos'</li>\n",
       "\t<li>'R-caudal ecologico.ipynb'</li>\n",
       "\t<li>'Untitled.ipynb'</li>\n",
       "\t<li>'Untitled1.ipynb'</li>\n",
       "</ol>\n"
      ],
      "text/latex": [
       "\\begin{enumerate*}\n",
       "\\item 'Caudal ecologico.ipynb'\n",
       "\\item 'Datos\\_Estacion\\_Batan\\_Zana.csv'\n",
       "\\item 'Python-comandos'\n",
       "\\item 'R-caudal ecologico.ipynb'\n",
       "\\item 'Untitled.ipynb'\n",
       "\\item 'Untitled1.ipynb'\n",
       "\\end{enumerate*}\n"
      ],
      "text/markdown": [
       "1. 'Caudal ecologico.ipynb'\n",
       "2. 'Datos_Estacion_Batan_Zana.csv'\n",
       "3. 'Python-comandos'\n",
       "4. 'R-caudal ecologico.ipynb'\n",
       "5. 'Untitled.ipynb'\n",
       "6. 'Untitled1.ipynb'\n",
       "\n",
       "\n"
      ],
      "text/plain": [
       "[1] \"Caudal ecologico.ipynb\"        \"Datos_Estacion_Batan_Zana.csv\"\n",
       "[3] \"Python-comandos\"               \"R-caudal ecologico.ipynb\"     \n",
       "[5] \"Untitled.ipynb\"                \"Untitled1.ipynb\"              "
      ]
     },
     "metadata": {},
     "output_type": "display_data"
    }
   ],
   "source": [
    "dir()\n",
    "library()"
   ]
  },
  {
   "cell_type": "code",
   "execution_count": 4,
   "metadata": {
    "collapsed": false
   },
   "outputs": [
    {
     "data": {
      "text/html": [
       "<table>\n",
       "<thead><tr><th scope=col>ALA</th><th scope=col>Estacion</th><th scope=col>Fecha</th><th scope=col>Caudal.m3.s.</th></tr></thead>\n",
       "<tbody>\n",
       "\t<tr><td>ZAÃ‘A     </td><td>BATAN     </td><td>01/01/1950</td><td>1.826     </td></tr>\n",
       "\t<tr><td>ZAÃ‘A     </td><td>BATAN     </td><td>02/01/1950</td><td>2.025     </td></tr>\n",
       "\t<tr><td>ZAÃ‘A     </td><td>BATAN     </td><td>03/01/1950</td><td>1.807     </td></tr>\n",
       "\t<tr><td>ZAÃ‘A     </td><td>BATAN     </td><td>04/01/1950</td><td>1.990     </td></tr>\n",
       "\t<tr><td>ZAÃ‘A     </td><td>BATAN     </td><td>05/01/1950</td><td>2.018     </td></tr>\n",
       "\t<tr><td>ZAÃ‘A     </td><td>BATAN     </td><td>06/01/1950</td><td>2.039     </td></tr>\n",
       "\t<tr><td>ZAÃ‘A     </td><td>BATAN     </td><td>07/01/1950</td><td>1.970     </td></tr>\n",
       "\t<tr><td>ZAÃ‘A     </td><td>BATAN     </td><td>08/01/1950</td><td>1.939     </td></tr>\n",
       "\t<tr><td>ZAÃ‘A     </td><td>BATAN     </td><td>09/01/1950</td><td>1.869     </td></tr>\n",
       "\t<tr><td>ZAÃ‘A     </td><td>BATAN     </td><td>10/01/1950</td><td>1.889     </td></tr>\n",
       "\t<tr><td>ZAÃ‘A     </td><td>BATAN     </td><td>11/01/1950</td><td>1.633     </td></tr>\n",
       "\t<tr><td>ZAÃ‘A     </td><td>BATAN     </td><td>12/01/1950</td><td>1.707     </td></tr>\n",
       "\t<tr><td>ZAÃ‘A     </td><td>BATAN     </td><td>13/01/1950</td><td>1.704     </td></tr>\n",
       "\t<tr><td>ZAÃ‘A     </td><td>BATAN     </td><td>14/01/1950</td><td>1.785     </td></tr>\n",
       "\t<tr><td>ZAÃ‘A     </td><td>BATAN     </td><td>15/01/1950</td><td>2.290     </td></tr>\n",
       "\t<tr><td>ZAÃ‘A     </td><td>BATAN     </td><td>16/01/1950</td><td>2.296     </td></tr>\n",
       "\t<tr><td>ZAÃ‘A     </td><td>BATAN     </td><td>17/01/1950</td><td>2.478     </td></tr>\n",
       "\t<tr><td>ZAÃ‘A     </td><td>BATAN     </td><td>18/01/1950</td><td>2.358     </td></tr>\n",
       "\t<tr><td>ZAÃ‘A     </td><td>BATAN     </td><td>19/01/1950</td><td>2.224     </td></tr>\n",
       "\t<tr><td>ZAÃ‘A     </td><td>BATAN     </td><td>20/01/1950</td><td>2.180     </td></tr>\n",
       "\t<tr><td>ZAÃ‘A     </td><td>BATAN     </td><td>21/01/1950</td><td>2.054     </td></tr>\n",
       "\t<tr><td>ZAÃ‘A     </td><td>BATAN     </td><td>22/01/1950</td><td>2.017     </td></tr>\n",
       "\t<tr><td>ZAÃ‘A     </td><td>BATAN     </td><td>23/01/1950</td><td>2.143     </td></tr>\n",
       "\t<tr><td>ZAÃ‘A     </td><td>BATAN     </td><td>24/01/1950</td><td>2.224     </td></tr>\n",
       "\t<tr><td>ZAÃ‘A     </td><td>BATAN     </td><td>25/01/1950</td><td>2.344     </td></tr>\n",
       "\t<tr><td>ZAÃ‘A     </td><td>BATAN     </td><td>26/01/1950</td><td>2.382     </td></tr>\n",
       "\t<tr><td>ZAÃ‘A     </td><td>BATAN     </td><td>27/01/1950</td><td>2.160     </td></tr>\n",
       "\t<tr><td>ZAÃ‘A     </td><td>BATAN     </td><td>28/01/1950</td><td>2.250     </td></tr>\n",
       "\t<tr><td>ZAÃ‘A     </td><td>BATAN     </td><td>29/01/1950</td><td>2.100     </td></tr>\n",
       "\t<tr><td>ZAÃ‘A     </td><td>BATAN     </td><td>30/01/1950</td><td>2.161     </td></tr>\n",
       "\t<tr><td>...</td><td>...</td><td>...</td><td>...</td></tr>\n",
       "\t<tr><td>ZAÃ‘A     </td><td>BATAN     </td><td>02/01/2010</td><td>5.301     </td></tr>\n",
       "\t<tr><td>ZAÃ‘A     </td><td>BATAN     </td><td>03/01/2010</td><td>5.301     </td></tr>\n",
       "\t<tr><td>ZAÃ‘A     </td><td>BATAN     </td><td>04/01/2010</td><td>5.054     </td></tr>\n",
       "\t<tr><td>ZAÃ‘A     </td><td>BATAN     </td><td>05/01/2010</td><td>4.813     </td></tr>\n",
       "\t<tr><td>ZAÃ‘A     </td><td>BATAN     </td><td>06/01/2010</td><td>5.054     </td></tr>\n",
       "\t<tr><td>ZAÃ‘A     </td><td>BATAN     </td><td>07/01/2010</td><td>4.813     </td></tr>\n",
       "\t<tr><td>ZAÃ‘A     </td><td>BATAN     </td><td>08/01/2010</td><td>4.813     </td></tr>\n",
       "\t<tr><td>ZAÃ‘A     </td><td>BATAN     </td><td>09/01/2010</td><td>4.578     </td></tr>\n",
       "\t<tr><td>ZAÃ‘A     </td><td>BATAN     </td><td>10/01/2010</td><td>4.813     </td></tr>\n",
       "\t<tr><td>ZAÃ‘A     </td><td>BATAN     </td><td>11/01/2010</td><td>4.578     </td></tr>\n",
       "\t<tr><td>ZAÃ‘A     </td><td>BATAN     </td><td>12/01/2010</td><td>5.054     </td></tr>\n",
       "\t<tr><td>ZAÃ‘A     </td><td>BATAN     </td><td>13/01/2010</td><td>4.813     </td></tr>\n",
       "\t<tr><td>ZAÃ‘A     </td><td>BATAN     </td><td>14/01/2010</td><td>4.578     </td></tr>\n",
       "\t<tr><td>ZAÃ‘A     </td><td>BATAN     </td><td>15/01/2010</td><td>4.127     </td></tr>\n",
       "\t<tr><td>ZAÃ‘A     </td><td>BATAN     </td><td>16/01/2010</td><td>3.910     </td></tr>\n",
       "\t<tr><td>ZAÃ‘A     </td><td>BATAN     </td><td>17/01/2010</td><td>4.127     </td></tr>\n",
       "\t<tr><td>ZAÃ‘A     </td><td>BATAN     </td><td>18/01/2010</td><td>4.578     </td></tr>\n",
       "\t<tr><td>ZAÃ‘A     </td><td>BATAN     </td><td>19/01/2010</td><td>4.813     </td></tr>\n",
       "\t<tr><td>ZAÃ‘A     </td><td>BATAN     </td><td>20/01/2010</td><td>5.054     </td></tr>\n",
       "\t<tr><td>ZAÃ‘A     </td><td>BATAN     </td><td>21/01/2010</td><td>4.813     </td></tr>\n",
       "\t<tr><td>ZAÃ‘A     </td><td>BATAN     </td><td>22/01/2010</td><td>4.813     </td></tr>\n",
       "\t<tr><td>ZAÃ‘A     </td><td>BATAN     </td><td>23/01/2010</td><td>4.813     </td></tr>\n",
       "\t<tr><td>ZAÃ‘A     </td><td>BATAN     </td><td>24/01/2010</td><td>5.554     </td></tr>\n",
       "\t<tr><td>ZAÃ‘A     </td><td>BATAN     </td><td>25/01/2010</td><td>5.054     </td></tr>\n",
       "\t<tr><td>ZAÃ‘A     </td><td>BATAN     </td><td>26/01/2010</td><td>5.301     </td></tr>\n",
       "\t<tr><td>ZAÃ‘A     </td><td>BATAN     </td><td>27/01/2010</td><td>5.054     </td></tr>\n",
       "\t<tr><td>ZAÃ‘A     </td><td>BATAN     </td><td>28/01/2010</td><td>4.813     </td></tr>\n",
       "\t<tr><td>ZAÃ‘A     </td><td>BATAN     </td><td>29/01/2010</td><td>5.054     </td></tr>\n",
       "\t<tr><td>ZAÃ‘A     </td><td>BATAN     </td><td>30/01/2010</td><td>4.578     </td></tr>\n",
       "\t<tr><td>ZAÃ‘A     </td><td>BATAN     </td><td>31/01/2010</td><td>4.349     </td></tr>\n",
       "</tbody>\n",
       "</table>\n"
      ],
      "text/latex": [
       "\\begin{tabular}{r|llll}\n",
       " ALA & Estacion & Fecha & Caudal.m3.s.\\\\\n",
       "\\hline\n",
       "\t ZAÃ‘A      & BATAN      & 01/01/1950 & 1.826     \\\\\n",
       "\t ZAÃ‘A      & BATAN      & 02/01/1950 & 2.025     \\\\\n",
       "\t ZAÃ‘A      & BATAN      & 03/01/1950 & 1.807     \\\\\n",
       "\t ZAÃ‘A      & BATAN      & 04/01/1950 & 1.990     \\\\\n",
       "\t ZAÃ‘A      & BATAN      & 05/01/1950 & 2.018     \\\\\n",
       "\t ZAÃ‘A      & BATAN      & 06/01/1950 & 2.039     \\\\\n",
       "\t ZAÃ‘A      & BATAN      & 07/01/1950 & 1.970     \\\\\n",
       "\t ZAÃ‘A      & BATAN      & 08/01/1950 & 1.939     \\\\\n",
       "\t ZAÃ‘A      & BATAN      & 09/01/1950 & 1.869     \\\\\n",
       "\t ZAÃ‘A      & BATAN      & 10/01/1950 & 1.889     \\\\\n",
       "\t ZAÃ‘A      & BATAN      & 11/01/1950 & 1.633     \\\\\n",
       "\t ZAÃ‘A      & BATAN      & 12/01/1950 & 1.707     \\\\\n",
       "\t ZAÃ‘A      & BATAN      & 13/01/1950 & 1.704     \\\\\n",
       "\t ZAÃ‘A      & BATAN      & 14/01/1950 & 1.785     \\\\\n",
       "\t ZAÃ‘A      & BATAN      & 15/01/1950 & 2.290     \\\\\n",
       "\t ZAÃ‘A      & BATAN      & 16/01/1950 & 2.296     \\\\\n",
       "\t ZAÃ‘A      & BATAN      & 17/01/1950 & 2.478     \\\\\n",
       "\t ZAÃ‘A      & BATAN      & 18/01/1950 & 2.358     \\\\\n",
       "\t ZAÃ‘A      & BATAN      & 19/01/1950 & 2.224     \\\\\n",
       "\t ZAÃ‘A      & BATAN      & 20/01/1950 & 2.180     \\\\\n",
       "\t ZAÃ‘A      & BATAN      & 21/01/1950 & 2.054     \\\\\n",
       "\t ZAÃ‘A      & BATAN      & 22/01/1950 & 2.017     \\\\\n",
       "\t ZAÃ‘A      & BATAN      & 23/01/1950 & 2.143     \\\\\n",
       "\t ZAÃ‘A      & BATAN      & 24/01/1950 & 2.224     \\\\\n",
       "\t ZAÃ‘A      & BATAN      & 25/01/1950 & 2.344     \\\\\n",
       "\t ZAÃ‘A      & BATAN      & 26/01/1950 & 2.382     \\\\\n",
       "\t ZAÃ‘A      & BATAN      & 27/01/1950 & 2.160     \\\\\n",
       "\t ZAÃ‘A      & BATAN      & 28/01/1950 & 2.250     \\\\\n",
       "\t ZAÃ‘A      & BATAN      & 29/01/1950 & 2.100     \\\\\n",
       "\t ZAÃ‘A      & BATAN      & 30/01/1950 & 2.161     \\\\\n",
       "\t ... & ... & ... & ...\\\\\n",
       "\t ZAÃ‘A      & BATAN      & 02/01/2010 & 5.301     \\\\\n",
       "\t ZAÃ‘A      & BATAN      & 03/01/2010 & 5.301     \\\\\n",
       "\t ZAÃ‘A      & BATAN      & 04/01/2010 & 5.054     \\\\\n",
       "\t ZAÃ‘A      & BATAN      & 05/01/2010 & 4.813     \\\\\n",
       "\t ZAÃ‘A      & BATAN      & 06/01/2010 & 5.054     \\\\\n",
       "\t ZAÃ‘A      & BATAN      & 07/01/2010 & 4.813     \\\\\n",
       "\t ZAÃ‘A      & BATAN      & 08/01/2010 & 4.813     \\\\\n",
       "\t ZAÃ‘A      & BATAN      & 09/01/2010 & 4.578     \\\\\n",
       "\t ZAÃ‘A      & BATAN      & 10/01/2010 & 4.813     \\\\\n",
       "\t ZAÃ‘A      & BATAN      & 11/01/2010 & 4.578     \\\\\n",
       "\t ZAÃ‘A      & BATAN      & 12/01/2010 & 5.054     \\\\\n",
       "\t ZAÃ‘A      & BATAN      & 13/01/2010 & 4.813     \\\\\n",
       "\t ZAÃ‘A      & BATAN      & 14/01/2010 & 4.578     \\\\\n",
       "\t ZAÃ‘A      & BATAN      & 15/01/2010 & 4.127     \\\\\n",
       "\t ZAÃ‘A      & BATAN      & 16/01/2010 & 3.910     \\\\\n",
       "\t ZAÃ‘A      & BATAN      & 17/01/2010 & 4.127     \\\\\n",
       "\t ZAÃ‘A      & BATAN      & 18/01/2010 & 4.578     \\\\\n",
       "\t ZAÃ‘A      & BATAN      & 19/01/2010 & 4.813     \\\\\n",
       "\t ZAÃ‘A      & BATAN      & 20/01/2010 & 5.054     \\\\\n",
       "\t ZAÃ‘A      & BATAN      & 21/01/2010 & 4.813     \\\\\n",
       "\t ZAÃ‘A      & BATAN      & 22/01/2010 & 4.813     \\\\\n",
       "\t ZAÃ‘A      & BATAN      & 23/01/2010 & 4.813     \\\\\n",
       "\t ZAÃ‘A      & BATAN      & 24/01/2010 & 5.554     \\\\\n",
       "\t ZAÃ‘A      & BATAN      & 25/01/2010 & 5.054     \\\\\n",
       "\t ZAÃ‘A      & BATAN      & 26/01/2010 & 5.301     \\\\\n",
       "\t ZAÃ‘A      & BATAN      & 27/01/2010 & 5.054     \\\\\n",
       "\t ZAÃ‘A      & BATAN      & 28/01/2010 & 4.813     \\\\\n",
       "\t ZAÃ‘A      & BATAN      & 29/01/2010 & 5.054     \\\\\n",
       "\t ZAÃ‘A      & BATAN      & 30/01/2010 & 4.578     \\\\\n",
       "\t ZAÃ‘A      & BATAN      & 31/01/2010 & 4.349     \\\\\n",
       "\\end{tabular}\n"
      ],
      "text/markdown": [
       "\n",
       "ALA | Estacion | Fecha | Caudal.m3.s. | \n",
       "|---|---|---|---|---|---|---|---|---|---|---|---|---|---|---|---|---|---|---|---|---|---|---|---|---|---|---|---|---|---|---|---|---|---|---|---|---|---|---|---|---|---|---|---|---|---|---|---|---|---|---|---|---|---|---|---|---|---|---|---|---|\n",
       "| ZAÃ‘A      | BATAN      | 01/01/1950 | 1.826      | \n",
       "| ZAÃ‘A      | BATAN      | 02/01/1950 | 2.025      | \n",
       "| ZAÃ‘A      | BATAN      | 03/01/1950 | 1.807      | \n",
       "| ZAÃ‘A      | BATAN      | 04/01/1950 | 1.990      | \n",
       "| ZAÃ‘A      | BATAN      | 05/01/1950 | 2.018      | \n",
       "| ZAÃ‘A      | BATAN      | 06/01/1950 | 2.039      | \n",
       "| ZAÃ‘A      | BATAN      | 07/01/1950 | 1.970      | \n",
       "| ZAÃ‘A      | BATAN      | 08/01/1950 | 1.939      | \n",
       "| ZAÃ‘A      | BATAN      | 09/01/1950 | 1.869      | \n",
       "| ZAÃ‘A      | BATAN      | 10/01/1950 | 1.889      | \n",
       "| ZAÃ‘A      | BATAN      | 11/01/1950 | 1.633      | \n",
       "| ZAÃ‘A      | BATAN      | 12/01/1950 | 1.707      | \n",
       "| ZAÃ‘A      | BATAN      | 13/01/1950 | 1.704      | \n",
       "| ZAÃ‘A      | BATAN      | 14/01/1950 | 1.785      | \n",
       "| ZAÃ‘A      | BATAN      | 15/01/1950 | 2.290      | \n",
       "| ZAÃ‘A      | BATAN      | 16/01/1950 | 2.296      | \n",
       "| ZAÃ‘A      | BATAN      | 17/01/1950 | 2.478      | \n",
       "| ZAÃ‘A      | BATAN      | 18/01/1950 | 2.358      | \n",
       "| ZAÃ‘A      | BATAN      | 19/01/1950 | 2.224      | \n",
       "| ZAÃ‘A      | BATAN      | 20/01/1950 | 2.180      | \n",
       "| ZAÃ‘A      | BATAN      | 21/01/1950 | 2.054      | \n",
       "| ZAÃ‘A      | BATAN      | 22/01/1950 | 2.017      | \n",
       "| ZAÃ‘A      | BATAN      | 23/01/1950 | 2.143      | \n",
       "| ZAÃ‘A      | BATAN      | 24/01/1950 | 2.224      | \n",
       "| ZAÃ‘A      | BATAN      | 25/01/1950 | 2.344      | \n",
       "| ZAÃ‘A      | BATAN      | 26/01/1950 | 2.382      | \n",
       "| ZAÃ‘A      | BATAN      | 27/01/1950 | 2.160      | \n",
       "| ZAÃ‘A      | BATAN      | 28/01/1950 | 2.250      | \n",
       "| ZAÃ‘A      | BATAN      | 29/01/1950 | 2.100      | \n",
       "| ZAÃ‘A      | BATAN      | 30/01/1950 | 2.161      | \n",
       "| ... | ... | ... | ... | \n",
       "| ZAÃ‘A      | BATAN      | 02/01/2010 | 5.301      | \n",
       "| ZAÃ‘A      | BATAN      | 03/01/2010 | 5.301      | \n",
       "| ZAÃ‘A      | BATAN      | 04/01/2010 | 5.054      | \n",
       "| ZAÃ‘A      | BATAN      | 05/01/2010 | 4.813      | \n",
       "| ZAÃ‘A      | BATAN      | 06/01/2010 | 5.054      | \n",
       "| ZAÃ‘A      | BATAN      | 07/01/2010 | 4.813      | \n",
       "| ZAÃ‘A      | BATAN      | 08/01/2010 | 4.813      | \n",
       "| ZAÃ‘A      | BATAN      | 09/01/2010 | 4.578      | \n",
       "| ZAÃ‘A      | BATAN      | 10/01/2010 | 4.813      | \n",
       "| ZAÃ‘A      | BATAN      | 11/01/2010 | 4.578      | \n",
       "| ZAÃ‘A      | BATAN      | 12/01/2010 | 5.054      | \n",
       "| ZAÃ‘A      | BATAN      | 13/01/2010 | 4.813      | \n",
       "| ZAÃ‘A      | BATAN      | 14/01/2010 | 4.578      | \n",
       "| ZAÃ‘A      | BATAN      | 15/01/2010 | 4.127      | \n",
       "| ZAÃ‘A      | BATAN      | 16/01/2010 | 3.910      | \n",
       "| ZAÃ‘A      | BATAN      | 17/01/2010 | 4.127      | \n",
       "| ZAÃ‘A      | BATAN      | 18/01/2010 | 4.578      | \n",
       "| ZAÃ‘A      | BATAN      | 19/01/2010 | 4.813      | \n",
       "| ZAÃ‘A      | BATAN      | 20/01/2010 | 5.054      | \n",
       "| ZAÃ‘A      | BATAN      | 21/01/2010 | 4.813      | \n",
       "| ZAÃ‘A      | BATAN      | 22/01/2010 | 4.813      | \n",
       "| ZAÃ‘A      | BATAN      | 23/01/2010 | 4.813      | \n",
       "| ZAÃ‘A      | BATAN      | 24/01/2010 | 5.554      | \n",
       "| ZAÃ‘A      | BATAN      | 25/01/2010 | 5.054      | \n",
       "| ZAÃ‘A      | BATAN      | 26/01/2010 | 5.301      | \n",
       "| ZAÃ‘A      | BATAN      | 27/01/2010 | 5.054      | \n",
       "| ZAÃ‘A      | BATAN      | 28/01/2010 | 4.813      | \n",
       "| ZAÃ‘A      | BATAN      | 29/01/2010 | 5.054      | \n",
       "| ZAÃ‘A      | BATAN      | 30/01/2010 | 4.578      | \n",
       "| ZAÃ‘A      | BATAN      | 31/01/2010 | 4.349      | \n",
       "\n",
       "\n"
      ],
      "text/plain": [
       "      ALA   Estacion Fecha      Caudal.m3.s.\n",
       "1     ZAÃA BATAN    01/01/1950 1.826       \n",
       "2     ZAÃA BATAN    02/01/1950 2.025       \n",
       "3     ZAÃA BATAN    03/01/1950 1.807       \n",
       "4     ZAÃA BATAN    04/01/1950 1.990       \n",
       "5     ZAÃA BATAN    05/01/1950 2.018       \n",
       "6     ZAÃA BATAN    06/01/1950 2.039       \n",
       "7     ZAÃA BATAN    07/01/1950 1.970       \n",
       "8     ZAÃA BATAN    08/01/1950 1.939       \n",
       "9     ZAÃA BATAN    09/01/1950 1.869       \n",
       "10    ZAÃA BATAN    10/01/1950 1.889       \n",
       "11    ZAÃA BATAN    11/01/1950 1.633       \n",
       "12    ZAÃA BATAN    12/01/1950 1.707       \n",
       "13    ZAÃA BATAN    13/01/1950 1.704       \n",
       "14    ZAÃA BATAN    14/01/1950 1.785       \n",
       "15    ZAÃA BATAN    15/01/1950 2.290       \n",
       "16    ZAÃA BATAN    16/01/1950 2.296       \n",
       "17    ZAÃA BATAN    17/01/1950 2.478       \n",
       "18    ZAÃA BATAN    18/01/1950 2.358       \n",
       "19    ZAÃA BATAN    19/01/1950 2.224       \n",
       "20    ZAÃA BATAN    20/01/1950 2.180       \n",
       "21    ZAÃA BATAN    21/01/1950 2.054       \n",
       "22    ZAÃA BATAN    22/01/1950 2.017       \n",
       "23    ZAÃA BATAN    23/01/1950 2.143       \n",
       "24    ZAÃA BATAN    24/01/1950 2.224       \n",
       "25    ZAÃA BATAN    25/01/1950 2.344       \n",
       "26    ZAÃA BATAN    26/01/1950 2.382       \n",
       "27    ZAÃA BATAN    27/01/1950 2.160       \n",
       "28    ZAÃA BATAN    28/01/1950 2.250       \n",
       "29    ZAÃA BATAN    29/01/1950 2.100       \n",
       "30    ZAÃA BATAN    30/01/1950 2.161       \n",
       "...   ...   ...      ...        ...         \n",
       "19916 ZAÃA BATAN    02/01/2010 5.301       \n",
       "19917 ZAÃA BATAN    03/01/2010 5.301       \n",
       "19918 ZAÃA BATAN    04/01/2010 5.054       \n",
       "19919 ZAÃA BATAN    05/01/2010 4.813       \n",
       "19920 ZAÃA BATAN    06/01/2010 5.054       \n",
       "19921 ZAÃA BATAN    07/01/2010 4.813       \n",
       "19922 ZAÃA BATAN    08/01/2010 4.813       \n",
       "19923 ZAÃA BATAN    09/01/2010 4.578       \n",
       "19924 ZAÃA BATAN    10/01/2010 4.813       \n",
       "19925 ZAÃA BATAN    11/01/2010 4.578       \n",
       "19926 ZAÃA BATAN    12/01/2010 5.054       \n",
       "19927 ZAÃA BATAN    13/01/2010 4.813       \n",
       "19928 ZAÃA BATAN    14/01/2010 4.578       \n",
       "19929 ZAÃA BATAN    15/01/2010 4.127       \n",
       "19930 ZAÃA BATAN    16/01/2010 3.910       \n",
       "19931 ZAÃA BATAN    17/01/2010 4.127       \n",
       "19932 ZAÃA BATAN    18/01/2010 4.578       \n",
       "19933 ZAÃA BATAN    19/01/2010 4.813       \n",
       "19934 ZAÃA BATAN    20/01/2010 5.054       \n",
       "19935 ZAÃA BATAN    21/01/2010 4.813       \n",
       "19936 ZAÃA BATAN    22/01/2010 4.813       \n",
       "19937 ZAÃA BATAN    23/01/2010 4.813       \n",
       "19938 ZAÃA BATAN    24/01/2010 5.554       \n",
       "19939 ZAÃA BATAN    25/01/2010 5.054       \n",
       "19940 ZAÃA BATAN    26/01/2010 5.301       \n",
       "19941 ZAÃA BATAN    27/01/2010 5.054       \n",
       "19942 ZAÃA BATAN    28/01/2010 4.813       \n",
       "19943 ZAÃA BATAN    29/01/2010 5.054       \n",
       "19944 ZAÃA BATAN    30/01/2010 4.578       \n",
       "19945 ZAÃA BATAN    31/01/2010 4.349       "
      ]
     },
     "metadata": {},
     "output_type": "display_data"
    }
   ],
   "source": [
    "datos<-read.csv('Datos_Estacion_Batan_Zana.csv', head= T, sep=\",\", dec=\".\")\n",
    "datos\n"
   ]
  },
  {
   "cell_type": "code",
   "execution_count": 3,
   "metadata": {
    "collapsed": false
   },
   "outputs": [
    {
     "data": {
      "image/png": "[encoded data removed]",
      "text/plain": [
       "plot without title"
      ]
     },
     "metadata": {},
     "output_type": "display_data"
    }
   ],
   "source": [
    "ts<-ts(datos[,4],start=c(1950,1), frequency= 365)\n",
    "plot(ts, col=\"blue\", type=\"l\")\n",
    "\n"
   ]
  },
  {
   "cell_type": "code",
   "execution_count": 16,
   "metadata": {
    "collapsed": false
   },
   "outputs": [
    {
     "data": {
      "image/png": "[encoded data removed]",
      "text/plain": [
       "plot without title"
      ]
     },
     "metadata": {},
     "output_type": "display_data"
    }
   ],
   "source": [
    "ts20yrs<-ts(datos[,4] , start=c(1976,1), end=c(1995,12) , frequency= 365)\n",
    "plot(ts20yrs, type=\"p\")"
   ]
  },
  {
   "cell_type": "code",
   "execution_count": 20,
   "metadata": {
    "collapsed": false
   },
   "outputs": [
    {
     "data": {
      "text/html": [
       "<ol class=list-inline>\n",
       "\t<li>1.826</li>\n",
       "\t<li>2.025</li>\n",
       "\t<li>1.807</li>\n",
       "\t<li>1.99</li>\n",
       "\t<li>2.018</li>\n",
       "\t<li>2.039</li>\n",
       "</ol>\n"
      ],
      "text/latex": [
       "\\begin{enumerate*}\n",
       "\\item 1.826\n",
       "\\item 2.025\n",
       "\\item 1.807\n",
       "\\item 1.99\n",
       "\\item 2.018\n",
       "\\item 2.039\n",
       "\\end{enumerate*}\n"
      ],
      "text/markdown": [
       "1. 1.826\n",
       "2. 2.025\n",
       "3. 1.807\n",
       "4. 1.99\n",
       "5. 2.018\n",
       "6. 2.039\n",
       "\n",
       "\n"
      ],
      "text/plain": [
       "[1] 1.826 2.025 1.807 1.990 2.018 2.039"
      ]
     },
     "metadata": {},
     "output_type": "display_data"
    }
   ],
   "source": [
    "ts20yrs"
   ]
  },
  {
   "cell_type": "code",
   "execution_count": null,
   "metadata": {
    "collapsed": true
   },
   "outputs": [],
   "source": []
  }
 ],
 "metadata": {
  "anaconda-cloud": {},
  "kernelspec": {
   "display_name": "R",
   "language": "R",
   "name": "ir"
  },
  "language_info": {
   "codemirror_mode": "r",
   "file_extension": ".r",
   "mimetype": "text/x-r-source",
   "name": "R",
   "pygments_lexer": "r",
   "version": "3.3.2"
  }
 },
 "nbformat": 4,
 "nbformat_minor": 1
}
